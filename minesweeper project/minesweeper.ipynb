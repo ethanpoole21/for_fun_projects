{
 "cells": [
  {
   "cell_type": "code",
   "execution_count": 1,
   "metadata": {},
   "outputs": [],
   "source": [
    "from PIL import ImageGrab, ImageOps\n",
    "import pyautogui\n",
    "import time\n",
    "import numpy as np \n",
    "import time\n",
    "import matplotlib.pyplot as plt"
   ]
  },
  {
   "cell_type": "code",
   "execution_count": 42,
   "metadata": {},
   "outputs": [],
   "source": [
    "# grid size: 30x16\n",
    "# box size :16x16\n",
    "\n",
    "# mines: 99\n",
    "\n",
    "#start corner: 470,190\n",
    "#end corner: 950,448\n",
    "\n",
    "class coordinates():\n",
    " \n",
    "    startbutton =(711,166)\n",
    "    center_block = (718,311)\n",
    "    first_corner = (472,192)\n",
    "    last_corner = first_corner[0]+480,first_corner[1]+256\n",
    "\n",
    "shift_length = 15\n",
    "\n"
   ]
  },
  {
   "cell_type": "code",
   "execution_count": 17,
   "metadata": {},
   "outputs": [],
   "source": [
    "def restartGame():\n",
    "\n",
    "    pyautogui.click(coordinates.startbutton)\n",
    "\n",
    "def read_box(corner):\n",
    "    box = (corner[0],corner[1],corner[0]+16,corner[1]+16)\n",
    "    image = ImageGrab.grab(box)\n",
    "    return(image)\n",
    "\n",
    "def find_mid_box(coord):\n",
    "    return(coord[0]+8,coord[1]+8)\n"
   ]
  },
  {
   "cell_type": "code",
   "execution_count": 13,
   "metadata": {},
   "outputs": [
    {
     "name": "stdout",
     "output_type": "stream",
     "text": [
      "(473, 192)\n",
      "(481, 200)\n"
     ]
    }
   ],
   "source": [
    "middlie_first_corner = find_mid_box(coordinates.first_corner)\n",
    "\n",
    "print(coordinates.first_corner)\n",
    "print(middlie_first_corner)\n",
    "\n"
   ]
  },
  {
   "cell_type": "code",
   "execution_count": 43,
   "metadata": {},
   "outputs": [],
   "source": [
    "restartGame()\n",
    "while True:\n",
    "    time.sleep(3)\n",
    "    pyautogui.click(coordinates.center_block)\n",
    "    corner_ave = read_box(coordinates.first_corner)\n",
    "    corner_array = np.array(corner_ave)\n",
    "    bottom_ave = read_box(coordinates.last_corner)\n",
    "    bottom_array = np.array(bottom_ave)\n",
    "    break"
   ]
  },
  {
   "cell_type": "code",
   "execution_count": 44,
   "metadata": {},
   "outputs": [
    {
     "name": "stdout",
     "output_type": "stream",
     "text": [
      "236538\n"
     ]
    },
    {
     "data": {
      "image/png": "[encoded data removed]",
      "text/plain": "<Figure size 432x288 with 2 Axes>"
     },
     "metadata": {
      "needs_background": "light"
     },
     "output_type": "display_data"
    }
   ],
   "source": [
    "a = bottom_array.transpose(2,0,1)\n",
    "print(a.sum())\n",
    "f = plt.figure()\n",
    "plt.imshow(a[0])\n",
    "plt.colorbar()\n",
    "plt.show()"
   ]
  }
 ],
 "metadata": {
  "kernelspec": {
   "display_name": "Python 3.8.8 64-bit ('ethan': conda)",
   "metadata": {
    "interpreter": {
     "hash": "dca47c05b03a97d40d605e8dc5e7660dfa5185f713b43135186a09472b5127a9"
    }
   },
   "name": "python3"
  },
  "language_info": {
   "codemirror_mode": {
    "name": "ipython",
    "version": 3
   },
   "file_extension": ".py",
   "mimetype": "text/x-python",
   "name": "python",
   "nbconvert_exporter": "python",
   "pygments_lexer": "ipython3",
   "version": "3.8.8"
  },
  "orig_nbformat": 2
 },
 "nbformat": 4,
 "nbformat_minor": 2
}